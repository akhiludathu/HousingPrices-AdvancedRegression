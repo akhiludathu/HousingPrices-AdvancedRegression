{
 "cells": [
  {
   "cell_type": "code",
   "execution_count": 1,
   "metadata": {
    "collapsed": false
   },
   "outputs": [
    {
     "name": "stdout",
     "output_type": "stream",
     "text": [
      "LotFrontage      259\n",
      "Alley           1369\n",
      "MasVnrType         8\n",
      "MasVnrArea         8\n",
      "BsmtQual          37\n",
      "BsmtCond          37\n",
      "BsmtExposure      38\n",
      "BsmtFinType1      37\n",
      "BsmtFinType2      38\n",
      "Electrical         1\n",
      "FireplaceQu      690\n",
      "GarageType        81\n",
      "GarageYrBlt       81\n",
      "GarageFinish      81\n",
      "GarageQual        81\n",
      "GarageCond        81\n",
      "PoolQC          1453\n",
      "Fence           1179\n",
      "MiscFeature     1406\n",
      "dtype: int64\n"
     ]
    }
   ],
   "source": [
    "import numpy as np\n",
    "import pandas as pd\n",
    "import matplotlib.pyplot as plt\n",
    "%matplotlib inline\n",
    "\n",
    "from sklearn.decomposition import PCA\n",
    "from sklearn.preprocessing import StandardScaler\n",
    "from sklearn.model_selection import train_test_split\n",
    "\n",
    "train = pd.read_csv('train.csv')\n",
    "test = pd.read_csv('test.csv')\n",
    "train.shape\n",
    "\n",
    "train.head()\n",
    "\n",
    "\n",
    "null_counts = train.apply(lambda x: sum(x.isnull()))\n",
    "print(null_counts[null_counts!=0])\n",
    "\n",
    "train.drop(['Alley', 'PoolQC','Fence', 'MiscFeature','GarageYrBlt'],axis =1, inplace = True)\n",
    "test.drop(['Alley', 'PoolQC','Fence', 'MiscFeature','GarageYrBlt'],axis =1, inplace = True)"
   ]
  },
  {
   "cell_type": "code",
   "execution_count": 2,
   "metadata": {
    "collapsed": false
   },
   "outputs": [
    {
     "name": "stdout",
     "output_type": "stream",
     "text": [
      "LotFrontage     259\n",
      "MasVnrType        8\n",
      "MasVnrArea        8\n",
      "BsmtQual         37\n",
      "BsmtCond         37\n",
      "BsmtExposure     38\n",
      "BsmtFinType1     37\n",
      "BsmtFinType2     38\n",
      "Electrical        1\n",
      "FireplaceQu     690\n",
      "GarageType       81\n",
      "GarageFinish     81\n",
      "GarageQual       81\n",
      "GarageCond       81\n",
      "dtype: int64\n",
      "LotFrontage     259\n",
      "MasVnrType        8\n",
      "MasVnrArea        8\n",
      "BsmtQual         37\n",
      "BsmtCond         37\n",
      "BsmtExposure     38\n",
      "BsmtFinType1     37\n",
      "BsmtFinType2     38\n",
      "Electrical        1\n",
      "dtype: int64\n",
      "LotFrontage    259\n",
      "MasVnrType       8\n",
      "MasVnrArea       8\n",
      "Electrical       1\n",
      "dtype: int64\n",
      "MSZoning        4\n",
      "Utilities       2\n",
      "Exterior1st     1\n",
      "Exterior2nd     1\n",
      "BsmtFinSF1      1\n",
      "BsmtFinSF2      1\n",
      "BsmtUnfSF       1\n",
      "TotalBsmtSF     1\n",
      "BsmtFullBath    2\n",
      "BsmtHalfBath    2\n",
      "KitchenQual     1\n",
      "Functional      2\n",
      "GarageCars      1\n",
      "GarageArea      1\n",
      "SaleType        1\n",
      "dtype: int64\n"
     ]
    }
   ],
   "source": [
    "ids = test['Id']\n",
    "null_counts = train.apply(lambda x: sum(x.isnull()))\n",
    "print(null_counts[null_counts!=0])\n",
    "\n",
    "train['FireplaceQu'].value_counts()\n",
    "\n",
    "train['FireplaceQu'].fillna('NA', inplace =True)\n",
    "test['FireplaceQu'].fillna('NA', inplace =True)\n",
    "\n",
    "train['GarageType'].fillna('NA', inplace= True)\n",
    "#train['GarageYrBlt'].fillna('NA', inplace= True)\n",
    "train['GarageFinish'].fillna('NA', inplace= True)\n",
    "train['GarageQual'].fillna('NA', inplace= True)\n",
    "train['GarageCond'].fillna('NA', inplace= True)\n",
    "test['GarageType'].fillna('NA', inplace= True)\n",
    "#test['GarageYrBlt'].fillna('NA', inplace= True)\n",
    "test['GarageFinish'].fillna('NA', inplace= True)\n",
    "test['GarageQual'].fillna('NA', inplace= True)\n",
    "test['GarageCond'].fillna('NA', inplace= True)\n",
    "\n",
    "null_counts = train.apply(lambda x: sum(x.isnull()))\n",
    "print(null_counts[null_counts!=0])\n",
    "\n",
    "\n",
    "train['BsmtQual'].fillna('NA', inplace = True)\n",
    "train['BsmtCond'].fillna('NA', inplace = True)\n",
    "train['BsmtExposure'].fillna('NA', inplace = True)\n",
    "train['BsmtFinType1'].fillna('NA', inplace = True)\n",
    "train['BsmtFinType2'].fillna('NA', inplace = True)\n",
    "test['BsmtQual'].fillna('NA', inplace = True)\n",
    "test['BsmtCond'].fillna('NA', inplace = True)\n",
    "test['BsmtExposure'].fillna('NA', inplace = True)\n",
    "test['BsmtFinType1'].fillna('NA', inplace = True)\n",
    "test['BsmtFinType2'].fillna('NA', inplace = True)\n",
    "\n",
    "null_counts = train.apply(lambda x: sum(x.isnull()))\n",
    "print(null_counts[null_counts!=0])\n",
    "\n",
    "train['Electrical'].fillna('Sbrkr', inplace= True)\n",
    "test['Electrical'].fillna('Sbrkr', inplace= True)\n",
    "\n",
    "import math\n",
    "train['LotFrontage'].fillna(np.sqrt(train['LotArea']), inplace = True)\n",
    "test['LotFrontage'].fillna(np.sqrt(train['LotArea']), inplace = True)\n",
    "\n",
    "train['MasVnrArea'].fillna(0, inplace = True)\n",
    "train['MasVnrType'].fillna('None', inplace = True)\n",
    "test['MasVnrArea'].fillna(0, inplace = True)\n",
    "test['MasVnrType'].fillna('None', inplace = True)\n",
    "\n",
    "\n",
    "\n",
    "#Now for the Test Dataset\n",
    "\n",
    "null_counts = test.apply(lambda x: sum(x.isnull()))\n",
    "print(null_counts[null_counts!=0])\n",
    "\n",
    "test['SaleType'].fillna('Oth', inplace = True)\n",
    "test['GarageArea'].fillna(0 , inplace = True)\n",
    "test['GarageCars'].fillna(0, inplace = True)\n",
    "test['Functional'].fillna('Typ', inplace = True)\n",
    "\n",
    "test['KitchenQual'].fillna('TA', inplace = True)\n",
    "\n",
    "test['BsmtHalfBath'].fillna(0, inplace =True)\n",
    "test['BsmtFullBath'].fillna(0, inplace =True)\n",
    "\n",
    "test['MSZoning'].fillna('RL', inplace = True)\n",
    "test['Utilities'].fillna('AllPub', inplace= True)\n",
    "\n",
    "test['Exterior1st'].fillna('VinylSd', inplace =True)\n",
    "test['Exterior2nd'].fillna('VinylSd', inplace =True)\n",
    "\n",
    "test['TotalBsmtSF'].fillna(0, inplace =True)\n",
    "test['BsmtFinSF2'].fillna(0, inplace =True)\n",
    "test['BsmtUnfSF'].fillna(0, inplace =True)\n",
    "test['BsmtFinSF1'].fillna(0, inplace =True)"
   ]
  },
  {
   "cell_type": "code",
   "execution_count": null,
   "metadata": {
    "collapsed": false
   },
   "outputs": [],
   "source": []
  },
  {
   "cell_type": "code",
   "execution_count": 3,
   "metadata": {
    "collapsed": false
   },
   "outputs": [],
   "source": [
    "qual_dict = {\"NA\" : 0, None: 0, \"Po\": 1, \"Fa\": 2, \"TA\": 3, \"Gd\": 4, \"Ex\": 5}\n",
    "train[\"ExterQual\"] = train[\"ExterQual\"].map(qual_dict).astype(int)\n",
    "train[\"ExterCond\"] = train[\"ExterCond\"].map(qual_dict).astype(int)\n",
    "train[\"BsmtQual\"] = train[\"BsmtQual\"].map(qual_dict).astype(int)\n",
    "train[\"BsmtCond\"] = train[\"BsmtCond\"].map(qual_dict).astype(int)\n",
    "train[\"HeatingQC\"] = train[\"HeatingQC\"].map(qual_dict).astype(int)\n",
    "train[\"KitchenQual\"] = train[\"KitchenQual\"].map(qual_dict).astype(int)\n",
    "train[\"FireplaceQu\"] = train[\"FireplaceQu\"].map(qual_dict).astype(int)\n",
    "train[\"GarageQual\"] = train[\"GarageQual\"].map(qual_dict).astype(int)\n",
    "train[\"GarageCond\"] = train[\"GarageCond\"].map(qual_dict).astype(int)\n",
    "\n",
    "train[\"BsmtExposure\"] = train[\"BsmtExposure\"].map({\"NA\" : 0,None: 0, \"No\": 1, \"Mn\": 2, \"Av\": 3, \"Gd\": 4}).astype(int)\n",
    "\n",
    "bsmt_fin_dict = {\"NA\" : 0, None: 0, \"Unf\": 1, \"LwQ\": 2, \"Rec\": 3, \"BLQ\": 4, \"ALQ\": 5, \"GLQ\": 6}\n",
    "train[\"BsmtFinType1\"] = train[\"BsmtFinType1\"].map(bsmt_fin_dict).astype(int)\n",
    "train[\"BsmtFinType2\"] = train[\"BsmtFinType2\"].map(bsmt_fin_dict).astype(int)\n",
    "train[\"Functional\"] = train[\"Functional\"].map({None: 0, \"Sal\": 1, \"Sev\": 2, \"Maj2\": 3, \"Maj1\": 4, \"Mod\": 5, \"Min2\": 6, \"Min1\": 7, \"Typ\": 8}).astype(int)\n",
    "\n",
    "train['OverallQual'].value_counts()\n",
    "\n",
    "\n",
    "\n",
    "train[\"IsRegularLotShape\"] = (train[\"LotShape\"] == \"Reg\") * 1\n",
    "train[\"IsLandLevel\"] = (train[\"LandContour\"] == \"Lvl\") * 1\n",
    "train[\"IsLandSlopeGentle\"] = (train[\"LandSlope\"] == \"Gtl\") * 1\n",
    "train[\"IsElectricalSBrkr\"] = (train[\"Electrical\"] == \"SBrkr\") * 1\n",
    "train[\"IsGarageDetached\"] = (train[\"GarageType\"] == \"Detchd\") * 1\n",
    "train[\"IsPavedDrive\"] = (train[\"PavedDrive\"] == \"Y\") * 1\n",
    "train[\"Remodeled\"] = (train[\"YearRemodAdd\"] != train[\"YearBuilt\"]) * 1\n",
    "train[\"RecentRemodel\"] = (train[\"YearRemodAdd\"] == train[\"YrSold\"]) * 1\n",
    "train[\"VeryNewHouse\"] = (train[\"YearBuilt\"] == train[\"YrSold\"]) * 1\n",
    "train[\"Has2ntrainloor\"] = (train[\"2ndFlrSF\"] == 0) * 1\n",
    "train[\"HasMasVnr\"] = (train[\"MasVnrArea\"] == 0) * 1\n",
    "train[\"HasWoodDeck\"] = (train[\"WoodDeckSF\"] == 0) * 1\n",
    "train[\"HasOpenPorch\"] = (train[\"OpenPorchSF\"] == 0) * 1\n",
    "train[\"HasEnclosedPorch\"] = (train[\"EnclosedPorch\"] == 0) * 1\n",
    "train[\"Has3SsnPorch\"] = (train[\"3SsnPorch\"] == 0) * 1\n",
    "train[\"HasScreenPorch\"] = (train[\"ScreenPorch\"] == 0) * 1\n",
    "\n",
    "train[\"HighSeason\"] = train[\"MoSold\"].replace( {1: 0, 2: 0, 3: 0, 4: 1, 5: 1, 6: 1, 7: 1, 8: 0, 9: 0, 10: 0, 11: 0, 12: 0})\n",
    "train[\"NewerDwelling\"] = train[\"MSSubClass\"].replace({20: 1, 30: 0, 40: 0, 45: 0,50: 0, 60: 1, 70: 0, 75: 0, 80: 0, 85: 0, 90: 0, 120: 1, 150: 0, 160: 0, 180: 0, 190: 0}) \n",
    "\n",
    "\n",
    "\n",
    "train.loc[train.Neighborhood == 'NridgHt', \"Neighborhood_Good\"] = 1\n",
    "train.loc[train.Neighborhood == 'Crawfor', \"Neighborhood_Good\"] = 1\n",
    "train.loc[train.Neighborhood == 'StoneBr', \"Neighborhood_Good\"] = 1\n",
    "train.loc[train.Neighborhood == 'Somerst', \"Neighborhood_Good\"] = 1\n",
    "train.loc[train.Neighborhood == 'NoRidge', \"Neighborhood_Good\"] = 1\n",
    "train[\"Neighborhood_Good\"].fillna(0, inplace=True)\n",
    "\n",
    "train[\"SaleCondition_PriceDown\"] = train.SaleCondition.replace({'Abnorml': 1, 'Alloca': 1, 'AdjLand': 1, 'Family': 1, 'Normal': 0, 'Partial': 0})\n",
    "\n",
    "    # House completed before sale or not\n",
    "train[\"BoughtOffPlan\"] = train.SaleCondition.replace({\"Abnorml\" : 0, \"Alloca\" : 0, \"AdjLand\" : 0, \"Family\" : 0, \"Normal\" : 0, \"Partial\" : 1})\n",
    "\n",
    "#train[\"BadHeating\"] = train.HeatingQC.replace({'Ex': 0, 'Gd': 0, 'TA': 0, 'Fa': 1, 'Po': 1}).astype('int')\n",
    "\n",
    "area_cols = ['LotFrontage', 'LotArea', 'MasVnrArea', 'BsmtFinSF1', 'BsmtFinSF2', 'BsmtUnfSF',\n",
    "                 'TotalBsmtSF', '1stFlrSF', '2ndFlrSF', 'GrLivArea', 'GarageArea', 'WoodDeckSF', \n",
    "                 'OpenPorchSF', 'EnclosedPorch', '3SsnPorch', 'ScreenPorch', 'LowQualFinSF', 'PoolArea' ]\n",
    "train[\"TotalArea\"] = train[area_cols].sum(axis=1)\n",
    "\n",
    "train[\"TotalArea1st2nd\"] = train[\"1stFlrSF\"] + train[\"2ndFlrSF\"]\n",
    "\n",
    "train[\"Age\"] = 2010 - train[\"YearBuilt\"]\n",
    "train[\"TimeSinceSold\"] = 2010 - train[\"YrSold\"]\n",
    "\n",
    "train[\"SeasonSold\"] = train[\"MoSold\"].map({12:0, 1:0, 2:0, 3:1, 4:1, 5:1, \n",
    "                                                  6:2, 7:2, 8:2, 9:3, 10:3, 11:3}).astype(int)\n",
    "train[\"YearsSinceRemodel\"] = train[\"YrSold\"] - train[\"YearRemodAdd\"]\n",
    "\n",
    "# Simplifications of existing features into bad/average/good.\n",
    "train[\"SimplOverallQual\"] = train.OverallQual.replace(\n",
    "    {1 : 1, 2 : 1, 3 : 1, 4 : 2, 5 : 2, 6 : 2, 7 : 3, 8 : 3, 9 : 3, 10 : 3})\n",
    "train[\"SimplOverallCond\"] = train.OverallCond.replace(\n",
    "    {1 : 1, 2 : 1, 3 : 1, 4 : 2, 5 : 2, 6 : 2, 7 : 3, 8 : 3, 9 : 3, 10 : 3})\n",
    "train[\"SimplGarageCond\"] = train.GarageCond.replace(\n",
    "    {1 : 1, 2 : 1, 3 : 1, 4 : 2, 5 : 2})\n",
    "train[\"SimplGarageQual\"] = train.GarageQual.replace(\n",
    "    {1 : 1, 2 : 1, 3 : 1, 4 : 2, 5 : 2})\n",
    "train[\"SimplFireplaceQu\"] = train.FireplaceQu.replace(\n",
    "    {1 : 1, 2 : 1, 3 : 1, 4 : 2, 5 : 2})\n",
    "train[\"SimplFireplaceQu\"] = train.FireplaceQu.replace(\n",
    "    {1 : 1, 2 : 1, 3 : 1, 4 : 2, 5 : 2})\n",
    "train[\"SimplFunctional\"] = train.Functional.replace(\n",
    "    {1 : 1, 2 : 1, 3 : 2, 4 : 2, 5 : 3, 6 : 3, 7 : 3, 8 : 4})\n",
    "train[\"SimplKitchenQual\"] = train.KitchenQual.replace(\n",
    "    {1 : 1, 2 : 1, 3 : 1, 4 : 2, 5 : 2})\n",
    "train[\"SimplHeatingQC\"] = train.HeatingQC.replace(\n",
    "    {1 : 1, 2 : 1, 3 : 1, 4 : 2, 5 : 2})\n",
    "train[\"SimplBsmtFinType1\"] = train.BsmtFinType1.replace(\n",
    "    {1 : 1, 2 : 1, 3 : 1, 4 : 2, 5 : 2, 6 : 2})\n",
    "train[\"SimplBsmtFinType2\"] = train.BsmtFinType2.replace(\n",
    "    {1 : 1, 2 : 1, 3 : 1, 4 : 2, 5 : 2, 6 : 2})\n",
    "train[\"SimplBsmtCond\"] = train.BsmtCond.replace(\n",
    "    {1 : 1, 2 : 1, 3 : 1, 4 : 2, 5 : 2})\n",
    "train[\"SimplBsmtQual\"] = train.BsmtQual.replace(\n",
    "    {1 : 1, 2 : 1, 3 : 1, 4 : 2, 5 : 2})\n",
    "train[\"SimplExterCond\"] = train.ExterCond.replace(\n",
    "    {1 : 1, 2 : 1, 3 : 1, 4 : 2, 5 : 2})\n",
    "train[\"SimplExterQual\"] = train.ExterQual.replace(\n",
    "    {1 : 1, 2 : 1, 3 : 1, 4 : 2, 5 : 2})"
   ]
  },
  {
   "cell_type": "code",
   "execution_count": 4,
   "metadata": {
    "collapsed": false
   },
   "outputs": [],
   "source": [
    "qual_dict = {\"NA\" : 0, None: 0, \"Po\": 1, \"Fa\": 2, \"TA\": 3, \"Gd\": 4, \"Ex\": 5}\n",
    "test[\"ExterQual\"] = test[\"ExterQual\"].map(qual_dict).astype(int)\n",
    "test[\"ExterCond\"] = test[\"ExterCond\"].map(qual_dict).astype(int)\n",
    "test[\"BsmtQual\"] = test[\"BsmtQual\"].map(qual_dict).astype(int)\n",
    "test[\"BsmtCond\"] = test[\"BsmtCond\"].map(qual_dict).astype(int)\n",
    "test[\"HeatingQC\"] = test[\"HeatingQC\"].map(qual_dict).astype(int)\n",
    "test[\"KitchenQual\"] = test[\"KitchenQual\"].map(qual_dict).astype(int)\n",
    "test[\"FireplaceQu\"] = test[\"FireplaceQu\"].map(qual_dict).astype(int)\n",
    "test[\"GarageQual\"] = test[\"GarageQual\"].map(qual_dict).astype(int)\n",
    "test[\"GarageCond\"] = test[\"GarageCond\"].map(qual_dict).astype(int)\n",
    "\n",
    "test[\"BsmtExposure\"] = test[\"BsmtExposure\"].map({\"NA\" : 0,None: 0, \"No\": 1, \"Mn\": 2, \"Av\": 3, \"Gd\": 4}).astype(int)\n",
    "\n",
    "bsmt_fin_dict = {\"NA\" : 0, None: 0, \"Unf\": 1, \"LwQ\": 2, \"Rec\": 3, \"BLQ\": 4, \"ALQ\": 5, \"GLQ\": 6}\n",
    "test[\"BsmtFinType1\"] = test[\"BsmtFinType1\"].map(bsmt_fin_dict).astype(int)\n",
    "test[\"BsmtFinType2\"] = test[\"BsmtFinType2\"].map(bsmt_fin_dict).astype(int)\n",
    "test[\"Functional\"] = test[\"Functional\"].map({None: 0, \"Sal\": 1, \"Sev\": 2, \"Maj2\": 3, \"Maj1\": 4, \"Mod\": 5, \"Min2\": 6, \"Min1\": 7, \"Typ\": 8}).astype(int)\n",
    "\n",
    "test['OverallQual'].value_counts()\n",
    "\n",
    "\n",
    "\n",
    "test[\"IsRegularLotShape\"] = (test[\"LotShape\"] == \"Reg\") * 1\n",
    "test[\"IsLandLevel\"] = (test[\"LandContour\"] == \"Lvl\") * 1\n",
    "test[\"IsLandSlopeGentle\"] = (test[\"LandSlope\"] == \"Gtl\") * 1\n",
    "test[\"IsElectricalSBrkr\"] = (test[\"Electrical\"] == \"SBrkr\") * 1\n",
    "test[\"IsGarageDetached\"] = (test[\"GarageType\"] == \"Detchd\") * 1\n",
    "test[\"IsPavedDrive\"] = (test[\"PavedDrive\"] == \"Y\") * 1\n",
    "test[\"Remodeled\"] = (test[\"YearRemodAdd\"] != test[\"YearBuilt\"]) * 1\n",
    "test[\"RecentRemodel\"] = (test[\"YearRemodAdd\"] == test[\"YrSold\"]) * 1\n",
    "test[\"VeryNewHouse\"] = (test[\"YearBuilt\"] == test[\"YrSold\"]) * 1\n",
    "test[\"Has2ntestloor\"] = (test[\"2ndFlrSF\"] == 0) * 1\n",
    "test[\"HasMasVnr\"] = (test[\"MasVnrArea\"] == 0) * 1\n",
    "test[\"HasWoodDeck\"] = (test[\"WoodDeckSF\"] == 0) * 1\n",
    "test[\"HasOpenPorch\"] = (test[\"OpenPorchSF\"] == 0) * 1\n",
    "test[\"HasEnclosedPorch\"] = (test[\"EnclosedPorch\"] == 0) * 1\n",
    "test[\"Has3SsnPorch\"] = (test[\"3SsnPorch\"] == 0) * 1\n",
    "test[\"HasScreenPorch\"] = (test[\"ScreenPorch\"] == 0) * 1\n",
    "\n",
    "test[\"HighSeason\"] = test[\"MoSold\"].replace( {1: 0, 2: 0, 3: 0, 4: 1, 5: 1, 6: 1, 7: 1, 8: 0, 9: 0, 10: 0, 11: 0, 12: 0})\n",
    "test[\"NewerDwelling\"] = test[\"MSSubClass\"].replace({20: 1, 30: 0, 40: 0, 45: 0,50: 0, 60: 1, 70: 0, 75: 0, 80: 0, 85: 0, 90: 0, 120: 1, 150: 0, 160: 0, 180: 0, 190: 0}) \n",
    "\n",
    "\n",
    "\n",
    "test.loc[test.Neighborhood == 'NridgHt', \"Neighborhood_Good\"] = 1\n",
    "test.loc[test.Neighborhood == 'Crawfor', \"Neighborhood_Good\"] = 1\n",
    "test.loc[test.Neighborhood == 'StoneBr', \"Neighborhood_Good\"] = 1\n",
    "test.loc[test.Neighborhood == 'Somerst', \"Neighborhood_Good\"] = 1\n",
    "test.loc[test.Neighborhood == 'NoRidge', \"Neighborhood_Good\"] = 1\n",
    "test[\"Neighborhood_Good\"].fillna(0, inplace=True)\n",
    "\n",
    "test[\"SaleCondition_PriceDown\"] = test.SaleCondition.replace({'Abnorml': 1, 'Alloca': 1, 'AdjLand': 1, 'Family': 1, 'Normal': 0, 'Partial': 0})\n",
    "\n",
    "    # House completed before sale or not\n",
    "test[\"BoughtOffPlan\"] = test.SaleCondition.replace({\"Abnorml\" : 0, \"Alloca\" : 0, \"AdjLand\" : 0, \"Family\" : 0, \"Normal\" : 0, \"Partial\" : 1})\n",
    "\n",
    "#test[\"BadHeating\"] = test.HeatingQC.replace({'Ex': 0, 'Gd': 0, 'TA': 0, 'Fa': 1, 'Po': 1}).astype('int')\n",
    "\n",
    "area_cols = ['LotFrontage', 'LotArea', 'MasVnrArea', 'BsmtFinSF1', 'BsmtFinSF2', 'BsmtUnfSF',\n",
    "                 'TotalBsmtSF', '1stFlrSF', '2ndFlrSF', 'GrLivArea', 'GarageArea', 'WoodDeckSF', \n",
    "                 'OpenPorchSF', 'EnclosedPorch', '3SsnPorch', 'ScreenPorch', 'LowQualFinSF', 'PoolArea' ]\n",
    "test[\"TotalArea\"] = test[area_cols].sum(axis=1)\n",
    "\n",
    "test[\"TotalArea1st2nd\"] = test[\"1stFlrSF\"] + test[\"2ndFlrSF\"]\n",
    "\n",
    "test[\"Age\"] = 2010 - test[\"YearBuilt\"]\n",
    "test[\"TimeSinceSold\"] = 2010 - test[\"YrSold\"]\n",
    "\n",
    "test[\"SeasonSold\"] = test[\"MoSold\"].map({12:0, 1:0, 2:0, 3:1, 4:1, 5:1, \n",
    "                                                  6:2, 7:2, 8:2, 9:3, 10:3, 11:3}).astype(int)\n",
    "test[\"YearsSinceRemodel\"] = test[\"YrSold\"] - test[\"YearRemodAdd\"]\n",
    "\n",
    "# Simplifications of existing features into bad/average/good.\n",
    "test[\"SimplOverallQual\"] = test.OverallQual.replace(\n",
    "    {1 : 1, 2 : 1, 3 : 1, 4 : 2, 5 : 2, 6 : 2, 7 : 3, 8 : 3, 9 : 3, 10 : 3})\n",
    "test[\"SimplOverallCond\"] = test.OverallCond.replace(\n",
    "    {1 : 1, 2 : 1, 3 : 1, 4 : 2, 5 : 2, 6 : 2, 7 : 3, 8 : 3, 9 : 3, 10 : 3})\n",
    "test[\"SimplGarageCond\"] = test.GarageCond.replace(\n",
    "    {1 : 1, 2 : 1, 3 : 1, 4 : 2, 5 : 2})\n",
    "test[\"SimplGarageQual\"] = test.GarageQual.replace(\n",
    "    {1 : 1, 2 : 1, 3 : 1, 4 : 2, 5 : 2})\n",
    "test[\"SimplFireplaceQu\"] = test.FireplaceQu.replace(\n",
    "    {1 : 1, 2 : 1, 3 : 1, 4 : 2, 5 : 2})\n",
    "test[\"SimplFireplaceQu\"] = test.FireplaceQu.replace(\n",
    "    {1 : 1, 2 : 1, 3 : 1, 4 : 2, 5 : 2})\n",
    "test[\"SimplFunctional\"] = test.Functional.replace(\n",
    "    {1 : 1, 2 : 1, 3 : 2, 4 : 2, 5 : 3, 6 : 3, 7 : 3, 8 : 4})\n",
    "test[\"SimplKitchenQual\"] = test.KitchenQual.replace(\n",
    "    {1 : 1, 2 : 1, 3 : 1, 4 : 2, 5 : 2})\n",
    "test[\"SimplHeatingQC\"] = test.HeatingQC.replace(\n",
    "    {1 : 1, 2 : 1, 3 : 1, 4 : 2, 5 : 2})\n",
    "test[\"SimplBsmtFinType1\"] = test.BsmtFinType1.replace(\n",
    "    {1 : 1, 2 : 1, 3 : 1, 4 : 2, 5 : 2, 6 : 2})\n",
    "test[\"SimplBsmtFinType2\"] = test.BsmtFinType2.replace(\n",
    "    {1 : 1, 2 : 1, 3 : 1, 4 : 2, 5 : 2, 6 : 2})\n",
    "test[\"SimplBsmtCond\"] = test.BsmtCond.replace(\n",
    "    {1 : 1, 2 : 1, 3 : 1, 4 : 2, 5 : 2})\n",
    "test[\"SimplBsmtQual\"] = test.BsmtQual.replace(\n",
    "    {1 : 1, 2 : 1, 3 : 1, 4 : 2, 5 : 2})\n",
    "test[\"SimplExterCond\"] = test.ExterCond.replace(\n",
    "    {1 : 1, 2 : 1, 3 : 1, 4 : 2, 5 : 2})\n",
    "test[\"SimplExterQual\"] = test.ExterQual.replace(\n",
    "    {1 : 1, 2 : 1, 3 : 1, 4 : 2, 5 : 2})"
   ]
  },
  {
   "cell_type": "code",
   "execution_count": 5,
   "metadata": {
    "collapsed": false
   },
   "outputs": [],
   "source": [
    "y_train = train.pop('SalePrice')"
   ]
  },
  {
   "cell_type": "code",
   "execution_count": 6,
   "metadata": {
    "collapsed": false
   },
   "outputs": [],
   "source": [
    "#Transforming the skewed numerical features by taking log(feature+1)\n",
    "from scipy.stats import skew\n",
    "numerical_variables = train.dtypes[train.dtypes != 'object'].index"
   ]
  },
  {
   "cell_type": "code",
   "execution_count": 7,
   "metadata": {
    "collapsed": false
   },
   "outputs": [],
   "source": [
    "#Scaling\n",
    "skewed = train[numerical_variables].apply(lambda x: skew(x.dropna().astype(float)))\n",
    "skewed = skewed[skewed>0.75]\n",
    "skewed = skewed.index"
   ]
  },
  {
   "cell_type": "code",
   "execution_count": 8,
   "metadata": {
    "collapsed": false
   },
   "outputs": [],
   "source": [
    "train[skewed] = np.log1p(train[skewed])\n",
    "test[skewed] = np.log1p(train[skewed])"
   ]
  },
  {
   "cell_type": "code",
   "execution_count": 9,
   "metadata": {
    "collapsed": false
   },
   "outputs": [
    {
     "name": "stderr",
     "output_type": "stream",
     "text": [
      "C:\\Users\\akhil\\Anaconda3\\lib\\site-packages\\ipykernel\\__main__.py:1: FutureWarning: using '-' to provide set differences with Indexes is deprecated, use .difference()\n",
      "  if __name__ == '__main__':\n"
     ]
    }
   ],
   "source": [
    "numerical_variables = numerical_variables - ['Has2ntrainloor']"
   ]
  },
  {
   "cell_type": "code",
   "execution_count": 10,
   "metadata": {
    "collapsed": false
   },
   "outputs": [],
   "source": [
    "#from sklearn.preprocessing import StandardScaler\n",
    "#train[numerical_variables] = StandardScaler().fit_transform(train[numerical_variables])\n",
    "#test[numerical_variables] = StandardScaler().fit_transform(test[numerical_variables])\n"
   ]
  },
  {
   "cell_type": "code",
   "execution_count": 11,
   "metadata": {
    "collapsed": false
   },
   "outputs": [],
   "source": [
    "categorical_variables = train.dtypes.loc[train.dtypes=='object'].index"
   ]
  },
  {
   "cell_type": "code",
   "execution_count": 12,
   "metadata": {
    "collapsed": false
   },
   "outputs": [
    {
     "name": "stderr",
     "output_type": "stream",
     "text": [
      "C:\\Users\\akhil\\Anaconda3\\lib\\site-packages\\ipykernel\\__main__.py:13: SettingWithCopyWarning: \n",
      "A value is trying to be set on a copy of a slice from a DataFrame\n",
      "\n",
      "See the caveats in the documentation: http://pandas.pydata.org/pandas-docs/stable/indexing.html#indexing-view-versus-copy\n",
      "C:\\Users\\akhil\\Anaconda3\\lib\\site-packages\\ipykernel\\__main__.py:14: SettingWithCopyWarning: \n",
      "A value is trying to be set on a copy of a slice from a DataFrame\n",
      "\n",
      "See the caveats in the documentation: http://pandas.pydata.org/pandas-docs/stable/indexing.html#indexing-view-versus-copy\n"
     ]
    }
   ],
   "source": [
    "X_train_new = train\n",
    "X_test_new = test\n",
    "X_combined = pd.concat([X_train_new,X_test_new], axis =0)\n",
    "X_combined.shape\n",
    "\n",
    "for column in categorical_variables:\n",
    "    dummies = pd.get_dummies(X_combined[column])\n",
    "    X_combined[dummies.columns] = dummies\n",
    "\n",
    "X_train_new = X_combined.iloc[:1460,:]\n",
    "X_test_new = X_combined.iloc[1460:,:]\n",
    "\n",
    "X_train_new.drop(categorical_variables, inplace = True, axis=1)\n",
    "X_test_new.drop(categorical_variables, inplace = True, axis=1)"
   ]
  },
  {
   "cell_type": "code",
   "execution_count": 13,
   "metadata": {
    "collapsed": false
   },
   "outputs": [],
   "source": [
    "X_train = X_train_new\n",
    "X_test = X_test_new"
   ]
  },
  {
   "cell_type": "code",
   "execution_count": 14,
   "metadata": {
    "collapsed": true
   },
   "outputs": [],
   "source": [
    "from sklearn.tree import DecisionTreeRegressor\n",
    "from sklearn.ensemble import GradientBoostingRegressor\n",
    "from sklearn.linear_model import Lasso\n",
    "from sklearn.svm import SVR\n",
    "from sklearn.ensemble import RandomForestRegressor\n",
    "from sklearn.ensemble import AdaBoostRegressor\n",
    "from sklearn.discriminant_analysis import LinearDiscriminantAnalysis\n",
    "from sklearn.naive_bayes import GaussianNB\n",
    "from sklearn.linear_model import Ridge"
   ]
  },
  {
   "cell_type": "code",
   "execution_count": 43,
   "metadata": {
    "collapsed": false
   },
   "outputs": [],
   "source": [
    "alg1 = DecisionTreeRegressor(max_depth =8, min_samples_split =8)\n",
    "alg2 = GradientBoostingRegressor(n_estimators =150, max_depth =3, max_features =0.9)\n",
    "alg3 = Lasso(alpha=1.0, fit_intercept=True, max_iter=500, tol=0.01, warm_start=False)\n",
    "alg4 = SVR(C=256, cache_size=200, coef0=0.0, degree=3, epsilon=0.1, gamma='auto', kernel='rbf', max_iter=-1, tol=0.01)\n",
    "alg5 = RandomForestRegressor(bootstrap=True, criterion='mse', max_depth=8, max_leaf_nodes=None, min_samples_leaf=1,min_samples_split=4,n_estimators=64, n_jobs=4, warm_start=False)\n",
    "alg6 = AdaBoostRegressor(base_estimator=Ridge(alpha=1.0, copy_X=True, fit_intercept=True, max_iter=300, normalize=False, tol=0.001),\n",
    "         learning_rate=1.0, loss='linear', n_estimators=8)\n",
    "alg7 = LinearDiscriminantAnalysis()\n",
    "alg8 = GaussianNB()"
   ]
  },
  {
   "cell_type": "code",
   "execution_count": 16,
   "metadata": {
    "collapsed": false
   },
   "outputs": [
    {
     "data": {
      "text/plain": [
       "1460"
      ]
     },
     "execution_count": 16,
     "metadata": {},
     "output_type": "execute_result"
    }
   ],
   "source": [
    "X_train.shape[0]"
   ]
  },
  {
   "cell_type": "code",
   "execution_count": 17,
   "metadata": {
    "collapsed": false
   },
   "outputs": [
    {
     "name": "stderr",
     "output_type": "stream",
     "text": [
      "C:\\Users\\akhil\\Anaconda3\\lib\\site-packages\\pandas\\core\\frame.py:2762: SettingWithCopyWarning: \n",
      "A value is trying to be set on a copy of a slice from a DataFrame\n",
      "\n",
      "See the caveats in the documentation: http://pandas.pydata.org/pandas-docs/stable/indexing.html#indexing-view-versus-copy\n",
      "  downcast=downcast, **kwargs)\n"
     ]
    }
   ],
   "source": [
    "X_train.fillna(0,inplace = True)\n",
    "X_test.fillna(0,inplace = True)"
   ]
  },
  {
   "cell_type": "code",
   "execution_count": 44,
   "metadata": {
    "collapsed": false
   },
   "outputs": [
    {
     "name": "stderr",
     "output_type": "stream",
     "text": [
      "C:\\Users\\akhil\\Anaconda3\\lib\\site-packages\\sklearn\\linear_model\\coordinate_descent.py:484: ConvergenceWarning: Objective did not converge. You might want to increase the number of iterations. Fitting data with very small alpha may cause precision problems.\n",
      "  ConvergenceWarning)\n",
      "C:\\Users\\akhil\\Anaconda3\\lib\\site-packages\\sklearn\\discriminant_analysis.py:387: UserWarning: Variables are collinear.\n",
      "  warnings.warn(\"Variables are collinear.\")\n"
     ]
    }
   ],
   "source": [
    "from sklearn.cross_validation import KFold\n",
    "kf = KFold(X_train.shape[0], n_folds=5, random_state=1)\n",
    "predictors = X_train.columns\n",
    "predictions = []\n",
    "for train, test in kf:\n",
    "    train_predictors = (X_train[predictors].iloc[train,:])\n",
    "    train_target = y_train.iloc[train]\n",
    "    alg1.fit(train_predictors, train_target)\n",
    "    test_predictions = alg1.predict(X_train[predictors].iloc[test,:])\n",
    "    predictions.append(test_predictions)\n",
    "y_train_1 = np.concatenate(predictions, axis=0)\n",
    "\n",
    "predictions = []\n",
    "for train, test in kf:\n",
    "    train_predictors = (X_train[predictors].iloc[train,:])\n",
    "    train_target = y_train.iloc[train]\n",
    "    alg2.fit(train_predictors, train_target)\n",
    "    test_predictions = alg2.predict(X_train[predictors].iloc[test,:])\n",
    "    predictions.append(test_predictions)\n",
    "y_train_2 = np.concatenate(predictions, axis=0)\n",
    "\n",
    "predictions = []\n",
    "for train, test in kf:\n",
    "    train_predictors = (X_train[predictors].iloc[train,:])\n",
    "    train_target = y_train.iloc[train]\n",
    "    alg3.fit(train_predictors, train_target)\n",
    "    test_predictions = alg3.predict(X_train[predictors].iloc[test,:])\n",
    "    predictions.append(test_predictions)\n",
    "y_train_3 = np.concatenate(predictions, axis=0)\n",
    "\n",
    "predictions = []\n",
    "for train, test in kf:\n",
    "    train_predictors = (X_train[predictors].iloc[train,:])\n",
    "    train_target = y_train.iloc[train]\n",
    "    alg4.fit(train_predictors, train_target)\n",
    "    test_predictions = alg4.predict(X_train[predictors].iloc[test,:])\n",
    "    predictions.append(test_predictions)\n",
    "y_train_4 = np.concatenate(predictions, axis=0)\n",
    "\n",
    "predictions = []\n",
    "for train, test in kf:\n",
    "    train_predictors = (X_train[predictors].iloc[train,:])\n",
    "    train_target = y_train.iloc[train]\n",
    "    alg5.fit(train_predictors, train_target)\n",
    "    test_predictions = alg5.predict(X_train[predictors].iloc[test,:])\n",
    "    predictions.append(test_predictions)\n",
    "y_train_5 = np.concatenate(predictions, axis=0)\n",
    "\n",
    "predictions = []\n",
    "for train, test in kf:\n",
    "    train_predictors = (X_train[predictors].iloc[train,:])\n",
    "    train_target = y_train.iloc[train]\n",
    "    alg6.fit(train_predictors, train_target)\n",
    "    test_predictions = alg6.predict(X_train[predictors].iloc[test,:])\n",
    "    predictions.append(test_predictions)\n",
    "y_train_6 = np.concatenate(predictions, axis=0)\n",
    "\n",
    "predictions = []\n",
    "for train, test in kf:\n",
    "    train_predictors = (X_train[predictors].iloc[train,:])\n",
    "    train_target = y_train.iloc[train]\n",
    "    alg7.fit(train_predictors, train_target)\n",
    "    test_predictions = alg7.predict(X_train[predictors].iloc[test,:])\n",
    "    predictions.append(test_predictions)\n",
    "y_train_7 = np.concatenate(predictions, axis=0)\n",
    "\n",
    "predictions = []\n",
    "for train, test in kf:\n",
    "    train_predictors = (X_train[predictors].iloc[train,:])\n",
    "    train_target = y_train.iloc[train]\n",
    "    alg8.fit(train_predictors, train_target)\n",
    "    test_predictions = alg8.predict(X_train[predictors].iloc[test,:])\n",
    "    predictions.append(test_predictions)\n",
    "y_train_8 = np.concatenate(predictions, axis=0)"
   ]
  },
  {
   "cell_type": "code",
   "execution_count": 45,
   "metadata": {
    "collapsed": false
   },
   "outputs": [
    {
     "data": {
      "text/plain": [
       "(1460, 242)"
      ]
     },
     "execution_count": 45,
     "metadata": {},
     "output_type": "execute_result"
    }
   ],
   "source": [
    "X_train.shape"
   ]
  },
  {
   "cell_type": "code",
   "execution_count": 46,
   "metadata": {
    "collapsed": true
   },
   "outputs": [],
   "source": [
    "X_train_new = pd.concat([pd.Series(y_train_1),pd.Series(y_train_2),pd.Series(y_train_3),pd.Series(y_train_4),pd.Series(y_train_5),pd.Series(y_train_6),pd.Series(y_train_7),pd.Series(y_train_8)],axis =1)"
   ]
  },
  {
   "cell_type": "code",
   "execution_count": 47,
   "metadata": {
    "collapsed": true
   },
   "outputs": [],
   "source": [
    "X_train_new = pd.concat([X_train, X_train_new],axis =1)"
   ]
  },
  {
   "cell_type": "code",
   "execution_count": 48,
   "metadata": {
    "collapsed": false
   },
   "outputs": [
    {
     "data": {
      "text/plain": [
       "(1460, 250)"
      ]
     },
     "execution_count": 48,
     "metadata": {},
     "output_type": "execute_result"
    }
   ],
   "source": [
    "X_train_new.shape"
   ]
  },
  {
   "cell_type": "code",
   "execution_count": 49,
   "metadata": {
    "collapsed": false
   },
   "outputs": [
    {
     "name": "stdout",
     "output_type": "stream",
     "text": [
      "Fitting 3 folds for each of 300 candidates, totalling 900 fits\n"
     ]
    },
    {
     "name": "stderr",
     "output_type": "stream",
     "text": [
      "[Parallel(n_jobs=4)]: Done  33 tasks      | elapsed:   43.9s\n",
      "[Parallel(n_jobs=4)]: Done 154 tasks      | elapsed:  3.8min\n",
      "[Parallel(n_jobs=4)]: Done 357 tasks      | elapsed:  8.6min\n",
      "[Parallel(n_jobs=4)]: Done 640 tasks      | elapsed: 15.5min\n",
      "[Parallel(n_jobs=4)]: Done 900 out of 900 | elapsed: 22.6min finished\n"
     ]
    },
    {
     "data": {
      "text/plain": [
       "GridSearchCV(cv=None, error_score='raise',\n",
       "       estimator=GradientBoostingRegressor(alpha=0.9, criterion='friedman_mse', init=None,\n",
       "             learning_rate=0.1, loss='ls', max_depth=3, max_features=None,\n",
       "             max_leaf_nodes=None, min_impurity_split=1e-07,\n",
       "             min_samples_leaf=1, min_samples_split=2,\n",
       "             min_weight_fraction_leaf=0.0, n_estimators=500,\n",
       "             presort='auto', random_state=None, subsample=1.0, verbose=0,\n",
       "             warm_start=False),\n",
       "       fit_params={}, iid=True, n_jobs=4,\n",
       "       param_grid=[{'max_depth': [4, 5, 6, 7, 8], 'learning_rate': [0.1, 0.2, 0.3], 'max_features': [0.5, 0.7, 0.8, 0.9], 'alpha': [0.5, 0.6, 0.7, 0.8, 0.9]}],\n",
       "       pre_dispatch='2*n_jobs', refit=True, return_train_score=True,\n",
       "       scoring=None, verbose=2)"
      ]
     },
     "execution_count": 49,
     "metadata": {},
     "output_type": "execute_result"
    }
   ],
   "source": [
    "from sklearn.ensemble import GradientBoostingRegressor\n",
    "from sklearn.model_selection import GridSearchCV\n",
    "params =[{'alpha' :[0.5,0.6,0.7,0.8,0.9], 'max_depth':[4,5,6,7,8],'max_features':[0.5,0.7,0.8,0.9],'learning_rate':[0.1,0.2,0.3]}]\n",
    "alg_ensemble = GridSearchCV(estimator = GradientBoostingRegressor(n_estimators = 500), param_grid =params,n_jobs=4,verbose=2)\n",
    "alg_ensemble.fit(X_train_new, y_train)"
   ]
  },
  {
   "cell_type": "code",
   "execution_count": 50,
   "metadata": {
    "collapsed": true
   },
   "outputs": [],
   "source": [
    "y_test_1 = alg1.predict(X_test)\n",
    "y_test_2 = alg2.predict(X_test)\n",
    "y_test_3 = alg3.predict(X_test)\n",
    "y_test_4 = alg4.predict(X_test)\n",
    "y_test_5 = alg5.predict(X_test)\n",
    "y_test_6 = alg6.predict(X_test)\n",
    "y_test_7 = alg7.predict(X_test)\n",
    "y_test_8 = alg8.predict(X_test)\n",
    "\n",
    "X_test_new = pd.concat([pd.Series(y_test_1),pd.Series(y_test_2),pd.Series(y_test_3),pd.Series(y_test_4),pd.Series(y_test_5),pd.Series(y_test_6),pd.Series(y_test_7),pd.Series(y_test_8)],axis =1)\n",
    "\n",
    "X_test_new = pd.concat([X_test,X_test_new],axis=1)"
   ]
  },
  {
   "cell_type": "code",
   "execution_count": 51,
   "metadata": {
    "collapsed": false
   },
   "outputs": [
    {
     "data": {
      "text/plain": [
       "(1459, 250)"
      ]
     },
     "execution_count": 51,
     "metadata": {},
     "output_type": "execute_result"
    }
   ],
   "source": [
    "X_test_new.shape"
   ]
  },
  {
   "cell_type": "code",
   "execution_count": 52,
   "metadata": {
    "collapsed": false
   },
   "outputs": [],
   "source": [
    "y_final = alg_ensemble.predict(X_test_new)"
   ]
  },
  {
   "cell_type": "code",
   "execution_count": 53,
   "metadata": {
    "collapsed": true
   },
   "outputs": [],
   "source": [
    "submission = pd.DataFrame({\n",
    "        \"Id\":ids,\n",
    "        \"SalePrice\": y_final\n",
    "    })\n",
    "submission.to_csv('submission5.csv',index=None)"
   ]
  },
  {
   "cell_type": "code",
   "execution_count": 54,
   "metadata": {
    "collapsed": false
   },
   "outputs": [
    {
     "data": {
      "text/html": [
       "<div>\n",
       "<table border=\"1\" class=\"dataframe\">\n",
       "  <thead>\n",
       "    <tr style=\"text-align: right;\">\n",
       "      <th></th>\n",
       "      <th>1stFlrSF</th>\n",
       "      <th>2ndFlrSF</th>\n",
       "      <th>3SsnPorch</th>\n",
       "      <th>Age</th>\n",
       "      <th>BedroomAbvGr</th>\n",
       "      <th>BoughtOffPlan</th>\n",
       "      <th>BsmtCond</th>\n",
       "      <th>BsmtExposure</th>\n",
       "      <th>BsmtFinSF1</th>\n",
       "      <th>BsmtFinSF2</th>\n",
       "      <th>...</th>\n",
       "      <th>Normal</th>\n",
       "      <th>Partial</th>\n",
       "      <th>0</th>\n",
       "      <th>1</th>\n",
       "      <th>2</th>\n",
       "      <th>3</th>\n",
       "      <th>4</th>\n",
       "      <th>5</th>\n",
       "      <th>6</th>\n",
       "      <th>7</th>\n",
       "    </tr>\n",
       "  </thead>\n",
       "  <tbody>\n",
       "    <tr>\n",
       "      <th>0</th>\n",
       "      <td>6.753438</td>\n",
       "      <td>6.751101</td>\n",
       "      <td>0.0</td>\n",
       "      <td>7</td>\n",
       "      <td>3</td>\n",
       "      <td>0.0</td>\n",
       "      <td>3</td>\n",
       "      <td>0.693147</td>\n",
       "      <td>6.561031</td>\n",
       "      <td>0.0</td>\n",
       "      <td>...</td>\n",
       "      <td>1.0</td>\n",
       "      <td>0.0</td>\n",
       "      <td>196575.936709</td>\n",
       "      <td>199261.216135</td>\n",
       "      <td>205587.333948</td>\n",
       "      <td>161841.898948</td>\n",
       "      <td>202061.913386</td>\n",
       "      <td>206331.235510</td>\n",
       "      <td>237000</td>\n",
       "      <td>213000</td>\n",
       "    </tr>\n",
       "    <tr>\n",
       "      <th>1</th>\n",
       "      <td>7.141245</td>\n",
       "      <td>0.000000</td>\n",
       "      <td>0.0</td>\n",
       "      <td>34</td>\n",
       "      <td>3</td>\n",
       "      <td>0.0</td>\n",
       "      <td>3</td>\n",
       "      <td>1.609438</td>\n",
       "      <td>6.886532</td>\n",
       "      <td>0.0</td>\n",
       "      <td>...</td>\n",
       "      <td>1.0</td>\n",
       "      <td>0.0</td>\n",
       "      <td>154201.255319</td>\n",
       "      <td>171364.228877</td>\n",
       "      <td>222830.042544</td>\n",
       "      <td>161841.898948</td>\n",
       "      <td>162746.621462</td>\n",
       "      <td>226464.515054</td>\n",
       "      <td>218000</td>\n",
       "      <td>165000</td>\n",
       "    </tr>\n",
       "    <tr>\n",
       "      <th>2</th>\n",
       "      <td>6.825460</td>\n",
       "      <td>6.765039</td>\n",
       "      <td>0.0</td>\n",
       "      <td>9</td>\n",
       "      <td>3</td>\n",
       "      <td>0.0</td>\n",
       "      <td>3</td>\n",
       "      <td>1.098612</td>\n",
       "      <td>6.188264</td>\n",
       "      <td>0.0</td>\n",
       "      <td>...</td>\n",
       "      <td>1.0</td>\n",
       "      <td>0.0</td>\n",
       "      <td>198004.782609</td>\n",
       "      <td>200748.585512</td>\n",
       "      <td>208267.207335</td>\n",
       "      <td>161841.898948</td>\n",
       "      <td>211359.750897</td>\n",
       "      <td>203133.375942</td>\n",
       "      <td>185900</td>\n",
       "      <td>214000</td>\n",
       "    </tr>\n",
       "    <tr>\n",
       "      <th>3</th>\n",
       "      <td>6.869014</td>\n",
       "      <td>6.629363</td>\n",
       "      <td>0.0</td>\n",
       "      <td>95</td>\n",
       "      <td>3</td>\n",
       "      <td>0.0</td>\n",
       "      <td>4</td>\n",
       "      <td>0.693147</td>\n",
       "      <td>5.379897</td>\n",
       "      <td>0.0</td>\n",
       "      <td>...</td>\n",
       "      <td>0.0</td>\n",
       "      <td>0.0</td>\n",
       "      <td>170366.666667</td>\n",
       "      <td>183683.359592</td>\n",
       "      <td>178099.832952</td>\n",
       "      <td>161841.898948</td>\n",
       "      <td>170890.235082</td>\n",
       "      <td>175388.518520</td>\n",
       "      <td>157000</td>\n",
       "      <td>157000</td>\n",
       "    </tr>\n",
       "    <tr>\n",
       "      <th>4</th>\n",
       "      <td>7.044033</td>\n",
       "      <td>6.960348</td>\n",
       "      <td>0.0</td>\n",
       "      <td>10</td>\n",
       "      <td>4</td>\n",
       "      <td>0.0</td>\n",
       "      <td>3</td>\n",
       "      <td>1.386294</td>\n",
       "      <td>6.486161</td>\n",
       "      <td>0.0</td>\n",
       "      <td>...</td>\n",
       "      <td>1.0</td>\n",
       "      <td>0.0</td>\n",
       "      <td>274850.000000</td>\n",
       "      <td>288981.464138</td>\n",
       "      <td>314052.041644</td>\n",
       "      <td>161841.898948</td>\n",
       "      <td>288369.673170</td>\n",
       "      <td>317038.435518</td>\n",
       "      <td>290000</td>\n",
       "      <td>290000</td>\n",
       "    </tr>\n",
       "  </tbody>\n",
       "</table>\n",
       "<p>5 rows × 250 columns</p>\n",
       "</div>"
      ],
      "text/plain": [
       "   1stFlrSF  2ndFlrSF  3SsnPorch  Age  BedroomAbvGr  BoughtOffPlan  BsmtCond  \\\n",
       "0  6.753438  6.751101        0.0    7             3            0.0         3   \n",
       "1  7.141245  0.000000        0.0   34             3            0.0         3   \n",
       "2  6.825460  6.765039        0.0    9             3            0.0         3   \n",
       "3  6.869014  6.629363        0.0   95             3            0.0         4   \n",
       "4  7.044033  6.960348        0.0   10             4            0.0         3   \n",
       "\n",
       "   BsmtExposure  BsmtFinSF1  BsmtFinSF2   ...    Normal  Partial  \\\n",
       "0      0.693147    6.561031         0.0   ...       1.0      0.0   \n",
       "1      1.609438    6.886532         0.0   ...       1.0      0.0   \n",
       "2      1.098612    6.188264         0.0   ...       1.0      0.0   \n",
       "3      0.693147    5.379897         0.0   ...       0.0      0.0   \n",
       "4      1.386294    6.486161         0.0   ...       1.0      0.0   \n",
       "\n",
       "               0              1              2              3              4  \\\n",
       "0  196575.936709  199261.216135  205587.333948  161841.898948  202061.913386   \n",
       "1  154201.255319  171364.228877  222830.042544  161841.898948  162746.621462   \n",
       "2  198004.782609  200748.585512  208267.207335  161841.898948  211359.750897   \n",
       "3  170366.666667  183683.359592  178099.832952  161841.898948  170890.235082   \n",
       "4  274850.000000  288981.464138  314052.041644  161841.898948  288369.673170   \n",
       "\n",
       "               5       6       7  \n",
       "0  206331.235510  237000  213000  \n",
       "1  226464.515054  218000  165000  \n",
       "2  203133.375942  185900  214000  \n",
       "3  175388.518520  157000  157000  \n",
       "4  317038.435518  290000  290000  \n",
       "\n",
       "[5 rows x 250 columns]"
      ]
     },
     "execution_count": 54,
     "metadata": {},
     "output_type": "execute_result"
    }
   ],
   "source": [
    "X_train_new.head()"
   ]
  },
  {
   "cell_type": "code",
   "execution_count": 55,
   "metadata": {
    "collapsed": false
   },
   "outputs": [
    {
     "data": {
      "text/plain": [
       "GradientBoostingRegressor(alpha=0.7, criterion='friedman_mse', init=None,\n",
       "             learning_rate=0.2, loss='ls', max_depth=7, max_features=0.5,\n",
       "             max_leaf_nodes=None, min_impurity_split=1e-07,\n",
       "             min_samples_leaf=1, min_samples_split=2,\n",
       "             min_weight_fraction_leaf=0.0, n_estimators=500,\n",
       "             presort='auto', random_state=None, subsample=1.0, verbose=0,\n",
       "             warm_start=False)"
      ]
     },
     "execution_count": 55,
     "metadata": {},
     "output_type": "execute_result"
    }
   ],
   "source": [
    "alg_ensemble.best_estimator_"
   ]
  },
  {
   "cell_type": "code",
   "execution_count": 56,
   "metadata": {
    "collapsed": false
   },
   "outputs": [
    {
     "data": {
      "text/plain": [
       "(1460, 242)"
      ]
     },
     "execution_count": 56,
     "metadata": {},
     "output_type": "execute_result"
    }
   ],
   "source": [
    "X_train.shape"
   ]
  },
  {
   "cell_type": "code",
   "execution_count": 57,
   "metadata": {
    "collapsed": false
   },
   "outputs": [
    {
     "data": {
      "text/plain": [
       "(1460,)"
      ]
     },
     "execution_count": 57,
     "metadata": {},
     "output_type": "execute_result"
    }
   ],
   "source": [
    "y_train.shape"
   ]
  },
  {
   "cell_type": "code",
   "execution_count": 42,
   "metadata": {
    "collapsed": false
   },
   "outputs": [
    {
     "data": {
      "text/html": [
       "<div>\n",
       "<table border=\"1\" class=\"dataframe\">\n",
       "  <thead>\n",
       "    <tr style=\"text-align: right;\">\n",
       "      <th></th>\n",
       "      <th>1stFlrSF</th>\n",
       "      <th>2ndFlrSF</th>\n",
       "      <th>3SsnPorch</th>\n",
       "      <th>Age</th>\n",
       "      <th>BedroomAbvGr</th>\n",
       "      <th>BoughtOffPlan</th>\n",
       "      <th>BsmtCond</th>\n",
       "      <th>BsmtExposure</th>\n",
       "      <th>BsmtFinSF1</th>\n",
       "      <th>BsmtFinSF2</th>\n",
       "      <th>...</th>\n",
       "      <th>Normal</th>\n",
       "      <th>Partial</th>\n",
       "      <th>0</th>\n",
       "      <th>1</th>\n",
       "      <th>2</th>\n",
       "      <th>3</th>\n",
       "      <th>4</th>\n",
       "      <th>5</th>\n",
       "      <th>6</th>\n",
       "      <th>7</th>\n",
       "    </tr>\n",
       "  </thead>\n",
       "  <tbody>\n",
       "    <tr>\n",
       "      <th>0</th>\n",
       "      <td>6.753438</td>\n",
       "      <td>6.751101</td>\n",
       "      <td>0.0</td>\n",
       "      <td>7</td>\n",
       "      <td>3</td>\n",
       "      <td>0.0</td>\n",
       "      <td>3</td>\n",
       "      <td>0.693147</td>\n",
       "      <td>6.561031</td>\n",
       "      <td>0.0</td>\n",
       "      <td>...</td>\n",
       "      <td>1.0</td>\n",
       "      <td>0.0</td>\n",
       "      <td>196575.936709</td>\n",
       "      <td>203804.422021</td>\n",
       "      <td>205587.333948</td>\n",
       "      <td>161841.898948</td>\n",
       "      <td>205918.811025</td>\n",
       "      <td>201854.357360</td>\n",
       "      <td>237000</td>\n",
       "      <td>213000</td>\n",
       "    </tr>\n",
       "    <tr>\n",
       "      <th>1</th>\n",
       "      <td>7.141245</td>\n",
       "      <td>0.000000</td>\n",
       "      <td>0.0</td>\n",
       "      <td>34</td>\n",
       "      <td>3</td>\n",
       "      <td>0.0</td>\n",
       "      <td>3</td>\n",
       "      <td>1.609438</td>\n",
       "      <td>6.886532</td>\n",
       "      <td>0.0</td>\n",
       "      <td>...</td>\n",
       "      <td>1.0</td>\n",
       "      <td>0.0</td>\n",
       "      <td>154201.255319</td>\n",
       "      <td>171245.837992</td>\n",
       "      <td>222830.042544</td>\n",
       "      <td>161841.898948</td>\n",
       "      <td>163088.602549</td>\n",
       "      <td>234988.495415</td>\n",
       "      <td>218000</td>\n",
       "      <td>165000</td>\n",
       "    </tr>\n",
       "    <tr>\n",
       "      <th>2</th>\n",
       "      <td>6.825460</td>\n",
       "      <td>6.765039</td>\n",
       "      <td>0.0</td>\n",
       "      <td>9</td>\n",
       "      <td>3</td>\n",
       "      <td>0.0</td>\n",
       "      <td>3</td>\n",
       "      <td>1.098612</td>\n",
       "      <td>6.188264</td>\n",
       "      <td>0.0</td>\n",
       "      <td>...</td>\n",
       "      <td>1.0</td>\n",
       "      <td>0.0</td>\n",
       "      <td>198004.782609</td>\n",
       "      <td>204324.463381</td>\n",
       "      <td>208267.207335</td>\n",
       "      <td>161841.898948</td>\n",
       "      <td>213216.435437</td>\n",
       "      <td>190885.253297</td>\n",
       "      <td>185900</td>\n",
       "      <td>214000</td>\n",
       "    </tr>\n",
       "    <tr>\n",
       "      <th>3</th>\n",
       "      <td>6.869014</td>\n",
       "      <td>6.629363</td>\n",
       "      <td>0.0</td>\n",
       "      <td>95</td>\n",
       "      <td>3</td>\n",
       "      <td>0.0</td>\n",
       "      <td>4</td>\n",
       "      <td>0.693147</td>\n",
       "      <td>5.379897</td>\n",
       "      <td>0.0</td>\n",
       "      <td>...</td>\n",
       "      <td>0.0</td>\n",
       "      <td>0.0</td>\n",
       "      <td>170366.666667</td>\n",
       "      <td>175663.741806</td>\n",
       "      <td>178099.832952</td>\n",
       "      <td>161841.898948</td>\n",
       "      <td>170487.850991</td>\n",
       "      <td>188559.015130</td>\n",
       "      <td>157000</td>\n",
       "      <td>157000</td>\n",
       "    </tr>\n",
       "    <tr>\n",
       "      <th>4</th>\n",
       "      <td>7.044033</td>\n",
       "      <td>6.960348</td>\n",
       "      <td>0.0</td>\n",
       "      <td>10</td>\n",
       "      <td>4</td>\n",
       "      <td>0.0</td>\n",
       "      <td>3</td>\n",
       "      <td>1.386294</td>\n",
       "      <td>6.486161</td>\n",
       "      <td>0.0</td>\n",
       "      <td>...</td>\n",
       "      <td>1.0</td>\n",
       "      <td>0.0</td>\n",
       "      <td>274850.000000</td>\n",
       "      <td>287702.027850</td>\n",
       "      <td>314052.041644</td>\n",
       "      <td>161841.898948</td>\n",
       "      <td>308549.463184</td>\n",
       "      <td>319390.783281</td>\n",
       "      <td>290000</td>\n",
       "      <td>290000</td>\n",
       "    </tr>\n",
       "  </tbody>\n",
       "</table>\n",
       "<p>5 rows × 250 columns</p>\n",
       "</div>"
      ],
      "text/plain": [
       "   1stFlrSF  2ndFlrSF  3SsnPorch  Age  BedroomAbvGr  BoughtOffPlan  BsmtCond  \\\n",
       "0  6.753438  6.751101        0.0    7             3            0.0         3   \n",
       "1  7.141245  0.000000        0.0   34             3            0.0         3   \n",
       "2  6.825460  6.765039        0.0    9             3            0.0         3   \n",
       "3  6.869014  6.629363        0.0   95             3            0.0         4   \n",
       "4  7.044033  6.960348        0.0   10             4            0.0         3   \n",
       "\n",
       "   BsmtExposure  BsmtFinSF1  BsmtFinSF2   ...    Normal  Partial  \\\n",
       "0      0.693147    6.561031         0.0   ...       1.0      0.0   \n",
       "1      1.609438    6.886532         0.0   ...       1.0      0.0   \n",
       "2      1.098612    6.188264         0.0   ...       1.0      0.0   \n",
       "3      0.693147    5.379897         0.0   ...       0.0      0.0   \n",
       "4      1.386294    6.486161         0.0   ...       1.0      0.0   \n",
       "\n",
       "               0              1              2              3              4  \\\n",
       "0  196575.936709  203804.422021  205587.333948  161841.898948  205918.811025   \n",
       "1  154201.255319  171245.837992  222830.042544  161841.898948  163088.602549   \n",
       "2  198004.782609  204324.463381  208267.207335  161841.898948  213216.435437   \n",
       "3  170366.666667  175663.741806  178099.832952  161841.898948  170487.850991   \n",
       "4  274850.000000  287702.027850  314052.041644  161841.898948  308549.463184   \n",
       "\n",
       "               5       6       7  \n",
       "0  201854.357360  237000  213000  \n",
       "1  234988.495415  218000  165000  \n",
       "2  190885.253297  185900  214000  \n",
       "3  188559.015130  157000  157000  \n",
       "4  319390.783281  290000  290000  \n",
       "\n",
       "[5 rows x 250 columns]"
      ]
     },
     "execution_count": 42,
     "metadata": {},
     "output_type": "execute_result"
    }
   ],
   "source": [
    "X_train_new.head()"
   ]
  },
  {
   "cell_type": "code",
   "execution_count": null,
   "metadata": {
    "collapsed": true
   },
   "outputs": [],
   "source": []
  }
 ],
 "metadata": {
  "kernelspec": {
   "display_name": "Python [Root]",
   "language": "python",
   "name": "Python [Root]"
  },
  "language_info": {
   "codemirror_mode": {
    "name": "ipython",
    "version": 3
   },
   "file_extension": ".py",
   "mimetype": "text/x-python",
   "name": "python",
   "nbconvert_exporter": "python",
   "pygments_lexer": "ipython3",
   "version": "3.5.2"
  }
 },
 "nbformat": 4,
 "nbformat_minor": 0
}
