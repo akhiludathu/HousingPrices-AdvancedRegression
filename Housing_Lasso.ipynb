{
 "cells": [
  {
   "cell_type": "code",
   "execution_count": 1,
   "metadata": {
    "collapsed": false
   },
   "outputs": [
    {
     "name": "stdout",
     "output_type": "stream",
     "text": [
      "LotFrontage      259\n",
      "Alley           1369\n",
      "MasVnrType         8\n",
      "MasVnrArea         8\n",
      "BsmtQual          37\n",
      "BsmtCond          37\n",
      "BsmtExposure      38\n",
      "BsmtFinType1      37\n",
      "BsmtFinType2      38\n",
      "Electrical         1\n",
      "FireplaceQu      690\n",
      "GarageType        81\n",
      "GarageYrBlt       81\n",
      "GarageFinish      81\n",
      "GarageQual        81\n",
      "GarageCond        81\n",
      "PoolQC          1453\n",
      "Fence           1179\n",
      "MiscFeature     1406\n",
      "dtype: int64\n"
     ]
    }
   ],
   "source": [
    "import numpy as np\n",
    "import pandas as pd\n",
    "import matplotlib.pyplot as plt\n",
    "%matplotlib inline\n",
    "\n",
    "from sklearn.decomposition import PCA\n",
    "from sklearn.preprocessing import StandardScaler\n",
    "from sklearn.model_selection import train_test_split\n",
    "\n",
    "train = pd.read_csv('train.csv')\n",
    "test = pd.read_csv('test.csv')\n",
    "train.shape\n",
    "\n",
    "train.head()\n",
    "\n",
    "\n",
    "null_counts = train.apply(lambda x: sum(x.isnull()))\n",
    "print(null_counts[null_counts!=0])\n",
    "\n",
    "train.drop(['Alley', 'PoolQC','Fence', 'MiscFeature','GarageYrBlt'],axis =1, inplace = True)\n",
    "test.drop(['Alley', 'PoolQC','Fence', 'MiscFeature','GarageYrBlt'],axis =1, inplace = True)"
   ]
  },
  {
   "cell_type": "code",
   "execution_count": 2,
   "metadata": {
    "collapsed": false
   },
   "outputs": [
    {
     "name": "stdout",
     "output_type": "stream",
     "text": [
      "LotFrontage     259\n",
      "MasVnrType        8\n",
      "MasVnrArea        8\n",
      "BsmtQual         37\n",
      "BsmtCond         37\n",
      "BsmtExposure     38\n",
      "BsmtFinType1     37\n",
      "BsmtFinType2     38\n",
      "Electrical        1\n",
      "FireplaceQu     690\n",
      "GarageType       81\n",
      "GarageFinish     81\n",
      "GarageQual       81\n",
      "GarageCond       81\n",
      "dtype: int64\n",
      "LotFrontage     259\n",
      "MasVnrType        8\n",
      "MasVnrArea        8\n",
      "BsmtQual         37\n",
      "BsmtCond         37\n",
      "BsmtExposure     38\n",
      "BsmtFinType1     37\n",
      "BsmtFinType2     38\n",
      "Electrical        1\n",
      "dtype: int64\n",
      "LotFrontage    259\n",
      "MasVnrType       8\n",
      "MasVnrArea       8\n",
      "Electrical       1\n",
      "dtype: int64\n",
      "MSZoning        4\n",
      "Utilities       2\n",
      "Exterior1st     1\n",
      "Exterior2nd     1\n",
      "BsmtFinSF1      1\n",
      "BsmtFinSF2      1\n",
      "BsmtUnfSF       1\n",
      "TotalBsmtSF     1\n",
      "BsmtFullBath    2\n",
      "BsmtHalfBath    2\n",
      "KitchenQual     1\n",
      "Functional      2\n",
      "GarageCars      1\n",
      "GarageArea      1\n",
      "SaleType        1\n",
      "dtype: int64\n"
     ]
    }
   ],
   "source": [
    "null_counts = train.apply(lambda x: sum(x.isnull()))\n",
    "print(null_counts[null_counts!=0])\n",
    "\n",
    "train['FireplaceQu'].value_counts()\n",
    "\n",
    "train['FireplaceQu'].fillna('NA', inplace =True)\n",
    "test['FireplaceQu'].fillna('NA', inplace =True)\n",
    "\n",
    "train['GarageType'].fillna('NA', inplace= True)\n",
    "#train['GarageYrBlt'].fillna('NA', inplace= True)\n",
    "train['GarageFinish'].fillna('NA', inplace= True)\n",
    "train['GarageQual'].fillna('NA', inplace= True)\n",
    "train['GarageCond'].fillna('NA', inplace= True)\n",
    "test['GarageType'].fillna('NA', inplace= True)\n",
    "#test['GarageYrBlt'].fillna('NA', inplace= True)\n",
    "test['GarageFinish'].fillna('NA', inplace= True)\n",
    "test['GarageQual'].fillna('NA', inplace= True)\n",
    "test['GarageCond'].fillna('NA', inplace= True)\n",
    "\n",
    "null_counts = train.apply(lambda x: sum(x.isnull()))\n",
    "print(null_counts[null_counts!=0])\n",
    "\n",
    "\n",
    "train['BsmtQual'].fillna('NA', inplace = True)\n",
    "train['BsmtCond'].fillna('NA', inplace = True)\n",
    "train['BsmtExposure'].fillna('NA', inplace = True)\n",
    "train['BsmtFinType1'].fillna('NA', inplace = True)\n",
    "train['BsmtFinType2'].fillna('NA', inplace = True)\n",
    "test['BsmtQual'].fillna('NA', inplace = True)\n",
    "test['BsmtCond'].fillna('NA', inplace = True)\n",
    "test['BsmtExposure'].fillna('NA', inplace = True)\n",
    "test['BsmtFinType1'].fillna('NA', inplace = True)\n",
    "test['BsmtFinType2'].fillna('NA', inplace = True)\n",
    "\n",
    "null_counts = train.apply(lambda x: sum(x.isnull()))\n",
    "print(null_counts[null_counts!=0])\n",
    "\n",
    "train['Electrical'].fillna('Sbrkr', inplace= True)\n",
    "test['Electrical'].fillna('Sbrkr', inplace= True)\n",
    "\n",
    "import math\n",
    "train['LotFrontage'].fillna(np.sqrt(train['LotArea']), inplace = True)\n",
    "test['LotFrontage'].fillna(np.sqrt(train['LotArea']), inplace = True)\n",
    "\n",
    "train['MasVnrArea'].fillna(0, inplace = True)\n",
    "train['MasVnrType'].fillna('None', inplace = True)\n",
    "test['MasVnrArea'].fillna(0, inplace = True)\n",
    "test['MasVnrType'].fillna('None', inplace = True)\n",
    "\n",
    "\n",
    "\n",
    "#Now for the Test Dataset\n",
    "\n",
    "null_counts = test.apply(lambda x: sum(x.isnull()))\n",
    "print(null_counts[null_counts!=0])\n",
    "\n",
    "test['SaleType'].fillna('Oth', inplace = True)\n",
    "test['GarageArea'].fillna(0 , inplace = True)\n",
    "test['GarageCars'].fillna(0, inplace = True)\n",
    "test['Functional'].fillna('Typ', inplace = True)\n",
    "\n",
    "test['KitchenQual'].fillna('TA', inplace = True)\n",
    "\n",
    "test['BsmtHalfBath'].fillna(0, inplace =True)\n",
    "test['BsmtFullBath'].fillna(0, inplace =True)\n",
    "\n",
    "test['MSZoning'].fillna('RL', inplace = True)\n",
    "test['Utilities'].fillna('AllPub', inplace= True)\n",
    "\n",
    "test['Exterior1st'].fillna('VinylSd', inplace =True)\n",
    "test['Exterior2nd'].fillna('VinylSd', inplace =True)\n",
    "\n",
    "test['TotalBsmtSF'].fillna(0, inplace =True)\n",
    "test['BsmtFinSF2'].fillna(0, inplace =True)\n",
    "test['BsmtUnfSF'].fillna(0, inplace =True)\n",
    "test['BsmtFinSF1'].fillna(0, inplace =True)"
   ]
  },
  {
   "cell_type": "code",
   "execution_count": 3,
   "metadata": {
    "collapsed": false
   },
   "outputs": [],
   "source": [
    "categorical_variables = train.dtypes.loc[train.dtypes=='object'].index"
   ]
  },
  {
   "cell_type": "code",
   "execution_count": 4,
   "metadata": {
    "collapsed": false
   },
   "outputs": [
    {
     "name": "stdout",
     "output_type": "stream",
     "text": [
      "Index(['MSZoning', 'Street', 'LotShape', 'LandContour', 'Utilities',\n",
      "       'LotConfig', 'LandSlope', 'Neighborhood', 'Condition1', 'Condition2',\n",
      "       'BldgType', 'HouseStyle', 'RoofStyle', 'RoofMatl', 'Exterior1st',\n",
      "       'Exterior2nd', 'MasVnrType', 'ExterQual', 'ExterCond', 'Foundation',\n",
      "       'BsmtQual', 'BsmtCond', 'BsmtExposure', 'BsmtFinType1', 'BsmtFinType2',\n",
      "       'Heating', 'HeatingQC', 'CentralAir', 'Electrical', 'KitchenQual',\n",
      "       'Functional', 'FireplaceQu', 'GarageType', 'GarageFinish', 'GarageQual',\n",
      "       'GarageCond', 'PavedDrive', 'SaleType', 'SaleCondition'],\n",
      "      dtype='object')\n"
     ]
    }
   ],
   "source": [
    "print(categorical_variables)"
   ]
  },
  {
   "cell_type": "code",
   "execution_count": 5,
   "metadata": {
    "collapsed": true
   },
   "outputs": [],
   "source": [
    "test_categorical_variables = test.dtypes.loc[test.dtypes=='object'].index"
   ]
  },
  {
   "cell_type": "code",
   "execution_count": 6,
   "metadata": {
    "collapsed": false
   },
   "outputs": [
    {
     "name": "stdout",
     "output_type": "stream",
     "text": [
      "MSZoning\n",
      "Street\n",
      "LotShape\n",
      "LandContour\n",
      "Utilities\n",
      "LotConfig\n",
      "LandSlope\n",
      "Neighborhood\n",
      "Condition1\n",
      "Condition2\n",
      "BldgType\n",
      "HouseStyle\n",
      "RoofStyle\n",
      "RoofMatl\n",
      "Exterior1st\n",
      "Exterior2nd\n",
      "MasVnrType\n",
      "ExterQual\n",
      "ExterCond\n",
      "Foundation\n",
      "BsmtQual\n",
      "BsmtCond\n",
      "BsmtExposure\n",
      "BsmtFinType1\n",
      "BsmtFinType2\n",
      "Heating\n",
      "HeatingQC\n",
      "CentralAir\n",
      "Electrical\n",
      "KitchenQual\n",
      "Functional\n",
      "FireplaceQu\n",
      "GarageType\n",
      "GarageFinish\n",
      "GarageQual\n",
      "GarageCond\n",
      "PavedDrive\n",
      "SaleType\n",
      "SaleCondition\n"
     ]
    }
   ],
   "source": [
    "from sklearn.preprocessing import LabelEncoder\n",
    "le = LabelEncoder()\n",
    "for var in categorical_variables:\n",
    "    print(var)\n",
    "    train[var] = le.fit_transform(train[var])\n",
    "    test[var] = le.fit_transform(test[var])"
   ]
  },
  {
   "cell_type": "code",
   "execution_count": 7,
   "metadata": {
    "collapsed": false
   },
   "outputs": [],
   "source": [
    "from sklearn.linear_model import Lasso\n",
    "from sklearn.model_selection import GridSearchCV"
   ]
  },
  {
   "cell_type": "code",
   "execution_count": 8,
   "metadata": {
    "collapsed": false
   },
   "outputs": [],
   "source": [
    "params = {'alpha' : [0.3,0.4,0.5,0.6,0.7,0.8], 'tol' : [0.001, 0.0005, 0.0001]}\n",
    "lasso = Lasso()\n",
    "alg = GridSearchCV(lasso, params, n_jobs =4, cv=5)"
   ]
  },
  {
   "cell_type": "code",
   "execution_count": 9,
   "metadata": {
    "collapsed": false
   },
   "outputs": [],
   "source": [
    "y_train = train.pop('SalePrice')\n",
    "X_train = train"
   ]
  },
  {
   "cell_type": "code",
   "execution_count": 10,
   "metadata": {
    "collapsed": false
   },
   "outputs": [
    {
     "data": {
      "text/plain": [
       "GridSearchCV(cv=5, error_score='raise',\n",
       "       estimator=Lasso(alpha=1.0, copy_X=True, fit_intercept=True, max_iter=1000,\n",
       "   normalize=False, positive=False, precompute=False, random_state=None,\n",
       "   selection='cyclic', tol=0.0001, warm_start=False),\n",
       "       fit_params={}, iid=True, n_jobs=4,\n",
       "       param_grid={'tol': [0.001, 0.0005, 0.0001], 'alpha': [0.3, 0.4, 0.5, 0.6, 0.7, 0.8]},\n",
       "       pre_dispatch='2*n_jobs', refit=True, return_train_score=True,\n",
       "       scoring=None, verbose=0)"
      ]
     },
     "execution_count": 10,
     "metadata": {},
     "output_type": "execute_result"
    }
   ],
   "source": [
    "alg.fit(X_train, y_train)"
   ]
  },
  {
   "cell_type": "code",
   "execution_count": 11,
   "metadata": {
    "collapsed": false
   },
   "outputs": [
    {
     "data": {
      "text/plain": [
       "0.81201339232142167"
      ]
     },
     "execution_count": 11,
     "metadata": {},
     "output_type": "execute_result"
    }
   ],
   "source": [
    "alg.best_score_"
   ]
  },
  {
   "cell_type": "code",
   "execution_count": 12,
   "metadata": {
    "collapsed": false
   },
   "outputs": [],
   "source": [
    "predictions = alg.predict(test)"
   ]
  },
  {
   "cell_type": "code",
   "execution_count": 13,
   "metadata": {
    "collapsed": false
   },
   "outputs": [],
   "source": [
    "submission = pd.DataFrame({\n",
    "        \"Id\":test[\"Id\"],\n",
    "        \"SalePrice\": predictions\n",
    "    })\n",
    "submission.to_csv('submission1.csv',index=None)"
   ]
  },
  {
   "cell_type": "code",
   "execution_count": 14,
   "metadata": {
    "collapsed": false
   },
   "outputs": [
    {
     "data": {
      "text/plain": [
       "Lasso(alpha=0.8, copy_X=True, fit_intercept=True, max_iter=1000,\n",
       "   normalize=False, positive=False, precompute=False, random_state=None,\n",
       "   selection='cyclic', tol=0.001, warm_start=False)"
      ]
     },
     "execution_count": 14,
     "metadata": {},
     "output_type": "execute_result"
    }
   ],
   "source": [
    "alg.best_estimator_"
   ]
  },
  {
   "cell_type": "code",
   "execution_count": null,
   "metadata": {
    "collapsed": true
   },
   "outputs": [],
   "source": []
  }
 ],
 "metadata": {
  "anaconda-cloud": {},
  "kernelspec": {
   "display_name": "Python [Root]",
   "language": "python",
   "name": "Python [Root]"
  },
  "language_info": {
   "codemirror_mode": {
    "name": "ipython",
    "version": 3
   },
   "file_extension": ".py",
   "mimetype": "text/x-python",
   "name": "python",
   "nbconvert_exporter": "python",
   "pygments_lexer": "ipython3",
   "version": "3.5.2"
  }
 },
 "nbformat": 4,
 "nbformat_minor": 0
}
