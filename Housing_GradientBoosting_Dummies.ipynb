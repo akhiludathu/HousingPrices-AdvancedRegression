{
 "cells": [
  {
   "cell_type": "code",
   "execution_count": 1,
   "metadata": {
    "collapsed": false
   },
   "outputs": [
    {
     "name": "stdout",
     "output_type": "stream",
     "text": [
      "LotFrontage      259\n",
      "Alley           1369\n",
      "MasVnrType         8\n",
      "MasVnrArea         8\n",
      "BsmtQual          37\n",
      "BsmtCond          37\n",
      "BsmtExposure      38\n",
      "BsmtFinType1      37\n",
      "BsmtFinType2      38\n",
      "Electrical         1\n",
      "FireplaceQu      690\n",
      "GarageType        81\n",
      "GarageYrBlt       81\n",
      "GarageFinish      81\n",
      "GarageQual        81\n",
      "GarageCond        81\n",
      "PoolQC          1453\n",
      "Fence           1179\n",
      "MiscFeature     1406\n",
      "dtype: int64\n"
     ]
    }
   ],
   "source": [
    "import numpy as np\n",
    "import pandas as pd\n",
    "import matplotlib.pyplot as plt\n",
    "%matplotlib inline\n",
    "\n",
    "from sklearn.decomposition import PCA\n",
    "from sklearn.preprocessing import StandardScaler\n",
    "from sklearn.model_selection import train_test_split\n",
    "\n",
    "train = pd.read_csv('train.csv')\n",
    "test = pd.read_csv('test.csv')\n",
    "train.shape\n",
    "\n",
    "train.head()\n",
    "\n",
    "\n",
    "null_counts = train.apply(lambda x: sum(x.isnull()))\n",
    "print(null_counts[null_counts!=0])\n",
    "\n",
    "train.drop(['Alley', 'PoolQC','Fence', 'MiscFeature','GarageYrBlt'],axis =1, inplace = True)\n",
    "test.drop(['Alley', 'PoolQC','Fence', 'MiscFeature','GarageYrBlt'],axis =1, inplace = True)"
   ]
  },
  {
   "cell_type": "code",
   "execution_count": 2,
   "metadata": {
    "collapsed": false
   },
   "outputs": [
    {
     "name": "stdout",
     "output_type": "stream",
     "text": [
      "LotFrontage     259\n",
      "MasVnrType        8\n",
      "MasVnrArea        8\n",
      "BsmtQual         37\n",
      "BsmtCond         37\n",
      "BsmtExposure     38\n",
      "BsmtFinType1     37\n",
      "BsmtFinType2     38\n",
      "Electrical        1\n",
      "FireplaceQu     690\n",
      "GarageType       81\n",
      "GarageFinish     81\n",
      "GarageQual       81\n",
      "GarageCond       81\n",
      "dtype: int64\n",
      "LotFrontage     259\n",
      "MasVnrType        8\n",
      "MasVnrArea        8\n",
      "BsmtQual         37\n",
      "BsmtCond         37\n",
      "BsmtExposure     38\n",
      "BsmtFinType1     37\n",
      "BsmtFinType2     38\n",
      "Electrical        1\n",
      "dtype: int64\n",
      "LotFrontage    259\n",
      "MasVnrType       8\n",
      "MasVnrArea       8\n",
      "Electrical       1\n",
      "dtype: int64\n",
      "MSZoning        4\n",
      "Utilities       2\n",
      "Exterior1st     1\n",
      "Exterior2nd     1\n",
      "BsmtFinSF1      1\n",
      "BsmtFinSF2      1\n",
      "BsmtUnfSF       1\n",
      "TotalBsmtSF     1\n",
      "BsmtFullBath    2\n",
      "BsmtHalfBath    2\n",
      "KitchenQual     1\n",
      "Functional      2\n",
      "GarageCars      1\n",
      "GarageArea      1\n",
      "SaleType        1\n",
      "dtype: int64\n"
     ]
    }
   ],
   "source": [
    "null_counts = train.apply(lambda x: sum(x.isnull()))\n",
    "print(null_counts[null_counts!=0])\n",
    "\n",
    "train['FireplaceQu'].value_counts()\n",
    "\n",
    "train['FireplaceQu'].fillna('NA', inplace =True)\n",
    "test['FireplaceQu'].fillna('NA', inplace =True)\n",
    "\n",
    "train['GarageType'].fillna('NA', inplace= True)\n",
    "#train['GarageYrBlt'].fillna('NA', inplace= True)\n",
    "train['GarageFinish'].fillna('NA', inplace= True)\n",
    "train['GarageQual'].fillna('NA', inplace= True)\n",
    "train['GarageCond'].fillna('NA', inplace= True)\n",
    "test['GarageType'].fillna('NA', inplace= True)\n",
    "#test['GarageYrBlt'].fillna('NA', inplace= True)\n",
    "test['GarageFinish'].fillna('NA', inplace= True)\n",
    "test['GarageQual'].fillna('NA', inplace= True)\n",
    "test['GarageCond'].fillna('NA', inplace= True)\n",
    "\n",
    "null_counts = train.apply(lambda x: sum(x.isnull()))\n",
    "print(null_counts[null_counts!=0])\n",
    "\n",
    "\n",
    "train['BsmtQual'].fillna('NA', inplace = True)\n",
    "train['BsmtCond'].fillna('NA', inplace = True)\n",
    "train['BsmtExposure'].fillna('NA', inplace = True)\n",
    "train['BsmtFinType1'].fillna('NA', inplace = True)\n",
    "train['BsmtFinType2'].fillna('NA', inplace = True)\n",
    "test['BsmtQual'].fillna('NA', inplace = True)\n",
    "test['BsmtCond'].fillna('NA', inplace = True)\n",
    "test['BsmtExposure'].fillna('NA', inplace = True)\n",
    "test['BsmtFinType1'].fillna('NA', inplace = True)\n",
    "test['BsmtFinType2'].fillna('NA', inplace = True)\n",
    "\n",
    "null_counts = train.apply(lambda x: sum(x.isnull()))\n",
    "print(null_counts[null_counts!=0])\n",
    "\n",
    "train['Electrical'].fillna('Sbrkr', inplace= True)\n",
    "test['Electrical'].fillna('Sbrkr', inplace= True)\n",
    "\n",
    "import math\n",
    "train['LotFrontage'].fillna(np.sqrt(train['LotArea']), inplace = True)\n",
    "test['LotFrontage'].fillna(np.sqrt(train['LotArea']), inplace = True)\n",
    "\n",
    "train['MasVnrArea'].fillna(0, inplace = True)\n",
    "train['MasVnrType'].fillna('None', inplace = True)\n",
    "test['MasVnrArea'].fillna(0, inplace = True)\n",
    "test['MasVnrType'].fillna('None', inplace = True)\n",
    "\n",
    "\n",
    "\n",
    "#Now for the Test Dataset\n",
    "\n",
    "null_counts = test.apply(lambda x: sum(x.isnull()))\n",
    "print(null_counts[null_counts!=0])\n",
    "\n",
    "test['SaleType'].fillna('Oth', inplace = True)\n",
    "test['GarageArea'].fillna(0 , inplace = True)\n",
    "test['GarageCars'].fillna(0, inplace = True)\n",
    "test['Functional'].fillna('Typ', inplace = True)\n",
    "\n",
    "test['KitchenQual'].fillna('TA', inplace = True)\n",
    "\n",
    "test['BsmtHalfBath'].fillna(0, inplace =True)\n",
    "test['BsmtFullBath'].fillna(0, inplace =True)\n",
    "\n",
    "test['MSZoning'].fillna('RL', inplace = True)\n",
    "test['Utilities'].fillna('AllPub', inplace= True)\n",
    "\n",
    "test['Exterior1st'].fillna('VinylSd', inplace =True)\n",
    "test['Exterior2nd'].fillna('VinylSd', inplace =True)\n",
    "\n",
    "test['TotalBsmtSF'].fillna(0, inplace =True)\n",
    "test['BsmtFinSF2'].fillna(0, inplace =True)\n",
    "test['BsmtUnfSF'].fillna(0, inplace =True)\n",
    "test['BsmtFinSF1'].fillna(0, inplace =True)"
   ]
  },
  {
   "cell_type": "code",
   "execution_count": 3,
   "metadata": {
    "collapsed": true
   },
   "outputs": [],
   "source": [
    "categorical_variables = train.dtypes.loc[train.dtypes=='object'].index"
   ]
  },
  {
   "cell_type": "code",
   "execution_count": 4,
   "metadata": {
    "collapsed": true
   },
   "outputs": [],
   "source": [
    "y_train = train.pop('SalePrice')\n",
    "X_train = train"
   ]
  },
  {
   "cell_type": "code",
   "execution_count": 5,
   "metadata": {
    "collapsed": true
   },
   "outputs": [],
   "source": [
    "X_tr = X_train\n",
    "y_tr = y_train\n",
    "\n",
    "y_train_new = y_tr\n",
    "X_train_new = train\n",
    "X_test_new = test\n",
    "X_combined = pd.concat([X_train_new,X_test_new], axis =0)\n",
    "X_combined.shape\n",
    "\n",
    "for column in categorical_variables:\n",
    "    dummies = pd.get_dummies(X_combined[column])\n",
    "    X_combined[dummies.columns] = dummies\n",
    "\n",
    "X_train_new = X_combined.iloc[:1460,:]\n",
    "X_test_new = X_combined.iloc[1460:,:]\n",
    "\n",
    "X_train_new.drop(categorical_variables, inplace = True, axis=1)\n",
    "X_test_new.drop(categorical_variables, inplace = True, axis=1)"
   ]
  },
  {
   "cell_type": "code",
   "execution_count": 10,
   "metadata": {
    "collapsed": false
   },
   "outputs": [
    {
     "data": {
      "text/plain": [
       "(1460, 205)"
      ]
     },
     "execution_count": 10,
     "metadata": {},
     "output_type": "execute_result"
    }
   ],
   "source": [
    "X_train_new.shape"
   ]
  },
  {
   "cell_type": "code",
   "execution_count": 11,
   "metadata": {
    "collapsed": true
   },
   "outputs": [],
   "source": [
    "from sklearn.model_selection import train_test_split\n",
    "X_train, X_test, y_train, y_test = train_test_split(X_train_new, y_train_new, random_state =1)"
   ]
  },
  {
   "cell_type": "code",
   "execution_count": null,
   "metadata": {
    "collapsed": true
   },
   "outputs": [],
   "source": []
  },
  {
   "cell_type": "code",
   "execution_count": 12,
   "metadata": {
    "collapsed": false
   },
   "outputs": [
    {
     "name": "stdout",
     "output_type": "stream",
     "text": [
      "198484190.335\n"
     ]
    }
   ],
   "source": [
    "from sklearn.ensemble import GradientBoostingRegressor\n",
    "\n",
    "alg = GradientBoostingRegressor()\n",
    "\n",
    "alg.fit(X_train_new, y_train_new)\n",
    "\n",
    "from sklearn.metrics import mean_squared_error\n",
    "\n",
    "y_pred = alg.predict(X_test)\n",
    "\n",
    "print(mean_squared_error(y_test, y_pred))\n",
    "\n",
    "y_pred = alg.predict(X_test_new)"
   ]
  },
  {
   "cell_type": "code",
   "execution_count": 13,
   "metadata": {
    "collapsed": false
   },
   "outputs": [
    {
     "data": {
      "text/plain": [
       "GradientBoostingRegressor(alpha=0.9, criterion='friedman_mse', init=None,\n",
       "             learning_rate=0.1, loss='ls', max_depth=3, max_features=None,\n",
       "             max_leaf_nodes=None, min_impurity_split=1e-07,\n",
       "             min_samples_leaf=1, min_samples_split=2,\n",
       "             min_weight_fraction_leaf=0.0, n_estimators=100,\n",
       "             presort='auto', random_state=None, subsample=1.0, verbose=0,\n",
       "             warm_start=False)"
      ]
     },
     "execution_count": 13,
     "metadata": {},
     "output_type": "execute_result"
    }
   ],
   "source": [
    "alg.fit(X_train_new, y_train_new)"
   ]
  },
  {
   "cell_type": "code",
   "execution_count": 14,
   "metadata": {
    "collapsed": true
   },
   "outputs": [],
   "source": [
    "y_pred = alg.predict(X_test_new)"
   ]
  },
  {
   "cell_type": "code",
   "execution_count": 15,
   "metadata": {
    "collapsed": true
   },
   "outputs": [],
   "source": [
    "submission = pd.DataFrame({\n",
    "        \"Id\":test[\"Id\"],\n",
    "        \"SalePrice\": y_pred\n",
    "    })\n",
    "submission.to_csv('submission3.csv',index=None)"
   ]
  },
  {
   "cell_type": "code",
   "execution_count": null,
   "metadata": {
    "collapsed": true
   },
   "outputs": [],
   "source": []
  }
 ],
 "metadata": {
  "kernelspec": {
   "display_name": "Python [Root]",
   "language": "python",
   "name": "Python [Root]"
  },
  "language_info": {
   "codemirror_mode": {
    "name": "ipython",
    "version": 3
   },
   "file_extension": ".py",
   "mimetype": "text/x-python",
   "name": "python",
   "nbconvert_exporter": "python",
   "pygments_lexer": "ipython3",
   "version": "3.5.2"
  }
 },
 "nbformat": 4,
 "nbformat_minor": 0
}
